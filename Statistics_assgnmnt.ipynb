{
 "cells": [
  {
   "cell_type": "markdown",
   "id": "328ad440-4571-43f2-911a-fe76d4556ca3",
   "metadata": {},
   "source": [
    "## Q1. Explain the different types of data (qualitative and quantitative) and provide examples of each. Discuss nominal, ordinal, interval, and ratio scales."
   ]
  },
  {
   "cell_type": "markdown",
   "id": "fa2adfc7-ca41-4a5d-96a8-08d43bf29c63",
   "metadata": {},
   "source": [
    "Data can be broadly categorized into two types: qualitative and quantitative.\n",
    "\n",
    "### Qualitative Data --\n",
    "Qualitative data, also known as categorical data, describes characteristics or qualities that can be observed but not measured numerically. This type of data is typically divided into two scales:\n",
    "\n",
    "#### Nominal Scale: \n",
    "This scale classifies data into distinct categories without any order. For example, types of fruit (apples, bananas, oranges) or colors (red, blue, green) are nominal. Each category is different but does not imply any ranking.\n",
    "\n",
    "#### Ordinal Scale: \n",
    "Ordinal data also categorizes variables, but with a meaningful order among the categories. For instance, rankings (such as first, second, third place in a race) or satisfaction levels (like satisfied, neutral, dissatisfied) indicate a relative position, but the intervals between ranks are not necessarily equal.\n",
    "\n",
    "### Quantitative Data --\n",
    "Quantitative data, on the other hand, involves numerical values that can be measured and analyzed mathematically. This type of data is further classified into:\n",
    "\n",
    "#### Interval Scale: \n",
    "Interval data represents ordered categories with equal intervals between values, but it lacks a true zero point. For example, temperature measured in Celsius or Fahrenheit is an interval scale—20 degrees is not twice as hot as 10 degrees because there’s no true zero.\n",
    "\n",
    "#### Ratio Scale: \n",
    "Ratio data includes all the properties of interval data, but it has a true zero point, allowing for a meaningful comparison of magnitudes. Examples include weight, height, and age. For instance, if one person weighs 0 kg, they literally have no weight, and 20 kg is twice as much as 10 kg.\n",
    "\n",
    "#### Summary\n",
    "\n",
    "Qualitative: Focuses on qualities (Nominal: categories without order; Ordinal: categories with order).\n",
    "\n",
    "Quantitative: Focuses on numbers (Interval: equal intervals, no true zero; Ratio: equal intervals with a true zero).\n",
    "\n",
    "These distinctions are essential in research and data analysis, as they inform how data can be collected, analyzed, and interpreted."
   ]
  },
  {
   "cell_type": "markdown",
   "id": "27feb504-d142-4169-a9c8-22222168d1b4",
   "metadata": {},
   "source": [
    "## Q2. What are the measures of central tendency, and when should you use each? Discuss the mean, median, and mode with examples and situations where each is appropriate."
   ]
  },
  {
   "cell_type": "markdown",
   "id": "cd866f42-36ff-4373-8a28-540de9d808ce",
   "metadata": {},
   "source": [
    "Measures of central tendency are statistical tools used to summarize a set of data by identifying the central point within that data. The three primary measures are the mean, median, and mode. Each has its appropriate use depending on the type of data and the distribution characteristics.\n",
    "\n",
    "### 1. Mean\n",
    "The mean is the average of a set of values, calculated by summing all the values and dividing by the number of values. \n",
    "\n",
    "**Example**: For the data set [2, 4, 6, 8, 10], the mean is (2 + 4 + 6 + 8 + 10) / 5 = 6.\n",
    "\n",
    "**When to use**: The mean is most appropriate when:\n",
    "- The data is normally distributed (symmetrical).\n",
    "- There are no extreme values (outliers) that could skew the average.\n",
    "\n",
    "**Situations**: Calculating the average test score of a class or the average income of a group, assuming no outliers significantly distort the data.\n",
    "\n",
    "### 2. Median\n",
    "The median is the middle value of a data set when it is ordered from least to greatest. If there is an even number of values, the median is the average of the two middle numbers.\n",
    "\n",
    "**Example**: For the data set [2, 4, 6, 8, 10], the median is 6. For the data set [2, 4, 6, 8], the median is (4 + 6) / 2 = 5.\n",
    "\n",
    "**When to use**: The median is ideal when:\n",
    "- The data is skewed or has outliers that could distort the mean.\n",
    "- You want to find the middle point of data distribution.\n",
    "\n",
    "**Situations**: Determining the median household income in a region, where a few very high incomes could skew the mean.\n",
    "\n",
    "### 3. Mode\n",
    "The mode is the value that appears most frequently in a data set. A set can have one mode, more than one mode (bimodal or multimodal), or no mode at all if all values are unique.\n",
    "\n",
    "**Example**: In the data set [1, 2, 2, 3, 4], the mode is 2. In the data set [1, 1, 2, 2, 3], both 1 and 2 are modes (bimodal).\n",
    "\n",
    "**When to use**: The mode is useful when:\n",
    "- You want to identify the most common item in a data set.\n",
    "- The data is categorical, where numerical averaging doesn’t make sense.\n",
    "\n",
    "**Situations**: Analyzing the most popular brand of a product among consumers or identifying the most common response in a survey.\n",
    "\n",
    "### Summary\n",
    "- **Mean**: Best for normally distributed data without outliers.\n",
    "- **Median**: Best for skewed data or data with outliers.\n",
    "- **Mode**: Best for categorical data or when identifying the most frequent value.\n",
    "\n",
    "Choosing the appropriate measure of central tendency helps in accurately interpreting and conveying data insights."
   ]
  },
  {
   "cell_type": "markdown",
   "id": "2d2b490e-65a3-4817-8a6d-ca654811702e",
   "metadata": {},
   "source": [
    "## Q3. Explain the concept of dispersion. How do variance and standard deviation measure the spread of data."
   ]
  },
  {
   "cell_type": "markdown",
   "id": "fcdc5bfb-2026-4fa1-9d77-e47f8a9bfb40",
   "metadata": {},
   "source": [
    "Dispersion refers to the extent to which data values spread out from a central point, such as the mean. It provides insight into the variability or consistency of a data set. Understanding dispersion is crucial because it helps to contextualize the central tendency measures (like mean or median) and reveals how much the data points differ from each other.\n",
    "\n",
    "### Measures of Dispersion\n",
    "\n",
    "Two of the most commonly used measures of dispersion are **variance** and **standard deviation**.\n",
    "\n",
    "#### 1. Variance\n",
    "Variance measures the average squared deviation of each data point from the mean. It quantifies how much the data points differ from the average, giving more weight to larger deviations due to squaring.\n",
    "\n",
    "- **Population Variance**:  \n",
    "  Population variance is a measure of how much the values in a population differ from the population mean. It quantifies the spread or dispersion of data points in a population.\n",
    "\n",
    "- **Sample Variance**:  \n",
    "  Sample variance is a measure of how much the values in a sample differ from the sample mean. It helps to estimate the variance of a larger population from which the sample is drawn.\n",
    "\n",
    "**Interpretation**: Variance is expressed in squared units of the original data, which can make it less intuitive. A higher variance indicates a wider spread of data points around the mean.\n",
    "\n",
    "#### 2. Standard Deviation\n",
    "Standard deviation is the square root of the variance, bringing the measure back to the same units as the original data, which makes it more interpretable.\n",
    "\n",
    "- **Population Standard Deviation**\n",
    "\n",
    "- **Sample Standard Deviation**\n",
    "\n",
    "**Interpretation**: The standard deviation indicates how much, on average, the data points deviate from the mean. A larger standard deviation signifies greater variability, while a smaller standard deviation indicates that data points are more closely clustered around the mean.\n",
    "\n",
    "### Summary\n",
    "- **Dispersion** helps understand the variability of data.\n",
    "- **Variance** measures the average of the squared deviations from the mean, indicating how much values differ.\n",
    "- **Standard Deviation** is the square root of variance, providing a more intuitive measure of spread that is in the same unit as the original data.\n",
    "\n",
    "Both measures are crucial for statistical analysis, helping to assess data reliability and to compare different data sets."
   ]
  },
  {
   "cell_type": "markdown",
   "id": "b81f8676-b4b0-46f0-b0ac-ccda82434b58",
   "metadata": {},
   "source": [
    "## Q4.  What is a box plot, and what can it tell you about the distribution of data?"
   ]
  },
  {
   "cell_type": "markdown",
   "id": "018960d4-f694-419c-a433-c8a16af740a6",
   "metadata": {},
   "source": [
    "A box plot, also known as a whisker plot, is a graphical representation of the distribution of a dataset that provides a visual summary of its central tendency, variability, and potential outliers. It displays five key statistics:\n",
    "\n",
    "1. Minimum: The smallest data point excluding outliers.\n",
    "\n",
    "2. First Quartile (Q1): The median of the lower half of the data (25th percentile).\n",
    "\n",
    "3. Median (Q2): The middle value of the dataset (50th percentile).\n",
    "\n",
    "4. Third Quartile (Q3): The median of the upper half of the data (75th percentile).\n",
    "\n",
    "5. Maximum: The largest data point excluding outliers.\n",
    "### Components of a Box Plot\n",
    "**Box:** The central box spans from Q1 to Q3, representing the interquartile range (IQR), which contains the middle 50% of the data.\n",
    "\n",
    "**Line inside the box:** Indicates the median (Q2).\n",
    "\n",
    "**Whiskers:** Lines extending from the box to the minimum and maximum values, indicating the range of the data within a specified distance from the quartiles (often 1.5 times the IQR).\n",
    "\n",
    "**Outliers:** Data points that fall outside the whiskers are typically plotted as individual points, often shown as dots or asterisks.\n",
    "\n",
    "### What a Box Plot Can Tell You\n",
    "\n",
    "**Central Tendency:** The position of the median within the box gives a quick sense of the data's center.\n",
    "\n",
    "**Spread of the Data:** The length of the box (IQR) shows the variability of the middle 50% of the data.\n",
    "\n",
    "**Symmetry and Skewness:** If the median line is centered in the box, the data is symmetrical. If it’s closer to Q1 or Q3, the data is skewed.\n",
    "\n",
    "**Outliers:** Points beyond the whiskers highlight potential outliers, which could indicate variability or anomalies in the data.\n",
    "\n",
    "**Comparisons:** Box plots are effective for comparing distributions between multiple groups or datasets side by side."
   ]
  },
  {
   "cell_type": "markdown",
   "id": "dbcf20b2-b049-4003-8031-8be25e2587aa",
   "metadata": {},
   "source": [
    "## Q5. Discuss the role of random sampling in making inferences about populations."
   ]
  },
  {
   "cell_type": "markdown",
   "id": "2a56b59a-1765-44f1-a1c0-56e6375a47b1",
   "metadata": {},
   "source": [
    "Random sampling is a fundamental technique in statistics that involves selecting a subset of individuals from a larger population in such a way that each individual has an equal chance of being chosen. This method is crucial for making inferences about populations based on the sample data.\r\n",
    "\r\n",
    "### 1. **Representativeness**\r\n",
    "Random sampling helps ensure that the sample is representative of the population. When every individual has an equal chance of selection, the sample is less likely to be biased. This representativeness is essential for generalizing findings from the sample to the entire population.\r\n",
    "\r\n",
    "### 2. **Reducing Bias**\r\n",
    "Bias occurs when certain groups or characteristics are over- or under-represented in the sample. Random sampling minimizes selection bias, making the sample more likely to reflect the diversity of the population. This leads to more accurate estimates of population parameters (e.g., mean, proportion).\r\n",
    "\r\n",
    "### 3. **Statistical Validity**\r\n",
    "Many statistical techniques, including hypothesis testing and confidence interval estimation, rely on the assumption that the sample is randomly selected. If the sample is not random, the results can be misleading, and the conclusions drawn may not be valid.\r\n",
    "\r\n",
    "### 4. **Generalizability**\r\n",
    "Findings based on a randomly sampled group can often be generalized to the broader population. This is particularly important in research fields such as public health, psychology, and social sciences, where understanding the behavior or characteristics of a larger group based on a smaller sample is essential.\r\n",
    "\r\n",
    "### 5. **Estimation of Variability**\r\n",
    "Random sampling allows for the calculation of sampling error, which is the difference between the sample estimate and the actual population parameter. Understanding this variability is crucial for constructing confidence intervals and making probabilistic statements about population parameters.\r\n",
    "\r\n",
    "### 6. **Facilitating Statistical Tests**\r\n",
    "Many inferential statistical tests, such as t-tests or ANOVA, rely on random sampling. These tests assume that the data points are independently and randomly sampled from the population, which is essential for determining the reliability of the results.\r\n",
    "\r\n",
    "### Conclusion\r\n",
    "In summary, random sampling is vital for making reliable inferences about populations. It enhances representativeness, reduces bias, ensures statistical validity, and allows for generalization of findings. By employing random sampling techniques, researchers can draw meaningful conclusions from their studies, making their findings more applicable and robust in real-world scenarios."
   ]
  },
  {
   "cell_type": "markdown",
   "id": "dbe48740-4600-43ff-abad-f216c5b02da9",
   "metadata": {},
   "source": [
    "## Q6. Explain the concept of skewness and its types. How does skewness affect the interpretation of data?"
   ]
  },
  {
   "cell_type": "markdown",
   "id": "8c0a6b58-0b25-446d-bc39-fc6d6efd339e",
   "metadata": {},
   "source": [
    "Skewness is a statistical measure that describes the asymmetry of a distribution. It indicates whether the data points are spread out more on one side of the mean than the other. Understanding skewness is important because it affects how we interpret data, the choice of statistical methods, and the overall analysis.\n",
    "\n",
    "### Types of Skewness\n",
    "\n",
    "1. **Positive Skewness (Right Skewness)**:\n",
    "   - In a positively skewed distribution, the tail on the right side (higher values) is longer or fatter than the left side.\n",
    "   - Most data points cluster towards the lower end, with a few higher values pulling the mean to the right of the median.\n",
    "   - **Example**: Income distribution often exhibits positive skewness, where a small number of individuals earn significantly more than the majority.\n",
    "\n",
    "2. **Negative Skewness (Left Skewness)**:\n",
    "   - In a negatively skewed distribution, the tail on the left side (lower values) is longer or fatter than the right side.\n",
    "   - Most data points cluster towards the higher end, with a few lower values pulling the mean to the left of the median.\n",
    "   - **Example**: Test scores where most students perform well, but a few perform poorly can lead to negative skewness.\n",
    "\n",
    "3. **Zero Skewness**:\n",
    "   - A distribution with zero skewness is symmetric, meaning the left and right tails are of equal length, and the mean, median, and mode are all approximately equal.\n",
    "   - **Example**: A normal distribution is an example of a symmetric distribution with zero skewness.\n",
    "\n",
    "### How Skewness Affects Data Interpretation\n",
    "\n",
    "1. **Central Tendency**:\n",
    "   - In positively skewed distributions, the mean is greater than the median, which can lead to misinterpretation if only the mean is reported.\n",
    "   - In negatively skewed distributions, the mean is less than the median. Relying solely on the mean can give a misleading picture of the central tendency.\n",
    "\n",
    "2. **Choice of Statistical Tests**:\n",
    "   - Many statistical tests assume normality (zero skewness). If the data is skewed, non-parametric tests may be more appropriate as they do not assume a specific distribution.\n",
    "\n",
    "3. **Data Visualization**:\n",
    "   - Skewness affects how data is visualized. Histograms or box plots can help identify skewness, allowing analysts to tailor their approach to data interpretation and reporting.\n",
    "\n",
    "4. **Outlier Influence**:\n",
    "   - Skewness can indicate the presence of outliers. In positively skewed distributions, high outliers can disproportionately affect the mean, while low outliers can have a similar effect in negatively skewed distributions.\n",
    "\n",
    "5. **Modeling and Predictions**:\n",
    "   - When building predictive models, skewness can influence the choice of transformations (e.g., log transformations) to normalize the data, enhancing model performance.\n",
    "\n",
    "### Summary\n",
    "Skewness is a key concept in understanding the shape of data distributions. Recognizing the type of skewness helps in accurately interpreting the data, selecting appropriate statistical methods, and effectively communicating findings. By considering skewness, analysts can avoid misleading conclusions and make more informed decisions based on their data."
   ]
  },
  {
   "cell_type": "markdown",
   "id": "dbb56d56-2184-4059-9de8-3ea8363d5c55",
   "metadata": {},
   "source": [
    "## Q7. What is the interquartile range (IQR), and how is it used to detect outliers?"
   ]
  },
  {
   "cell_type": "markdown",
   "id": "866540a0-0dff-4744-8e60-3283451a3223",
   "metadata": {},
   "source": [
    "The interquartile range (IQR) is a measure of statistical dispersion that represents the range within which the middle 50% of a dataset lies. It is calculated by subtracting the first quartile (Q1) from the third quartile (Q3):\n",
    "\n",
    "IQR = Q3 - Q1\n",
    "\n",
    "\n",
    "### Components of the IQR\n",
    "\n",
    "1. **First Quartile (Q1)**: The median of the lower half of the data, marking the 25th percentile.\n",
    "2. **Third Quartile (Q3)**: The median of the upper half of the data, marking the 75th percentile.\n",
    "3. **IQR**: The difference between Q3 and Q1, representing the range of the middle 50% of the data.\n",
    "\n",
    "### Detecting Outliers Using IQR\n",
    "\n",
    "The IQR is particularly useful for identifying outliers in a dataset. Outliers are data points that lie significantly outside the overall pattern of distribution. The IQR method identifies potential outliers using the following steps:\n",
    "\n",
    "1. **Calculate the IQR**: Find Q1 and Q3, and then compute the IQR.\n",
    "2. **Determine the Outlier Boundaries**:\n",
    "   - **Lower Bound**: Q1 - 1.5 * IQR\n",
    "   - **Upper Bound**: Q3 + 1.5 * IQR\n",
    "\n",
    "3. **Identify Outliers**: Any data point that falls below the lower bound or above the upper bound is considered an outlier.\n",
    "\n",
    "### Example\n",
    "\n",
    "Consider the following dataset: [1, 2, 3, 4, 5, 6, 7, 8, 100]\n",
    "\n",
    "1. **Calculate Q1 and Q3**:\n",
    "   - Q1 = 3.5 (the median of [1, 2, 3, 4])\n",
    "   - Q3 = 7.5 (the median of [6, 7, 8, 100])\n",
    "\n",
    "2. **Calculate the IQR**:\n",
    "\n",
    "   IQR = 7.5 - 3.5 = 4\n",
    "   \n",
    "4. **Determine the Outlier Boundaries**:\n",
    "   - Lower Bound: 3.5 - 1.5 * 4 = -3.5\n",
    "   - Upper Bound: 7.5 + 1.5 * 4 = 14.5 \n",
    "\n",
    "5. **Identify Outliers**: In this dataset, the value **100** is greater than 14.5 and is thus considered an outlier.\n",
    "\n",
    "### Summary\n",
    "\n",
    "The interquartile range (IQR) is a robust measure of spread that helps summarize the middle 50% of a dataset. It is effective for detecting outliers, providing a clear criterion to identify values that significantly deviate from the rest of the data. By using the IQR, analysts can focus on the core of the dataset while effectively managing the influence of outliers on statistical analyses."
   ]
  },
  {
   "cell_type": "markdown",
   "id": "bb54fb87-7788-4912-b70f-c8db94a7cbcc",
   "metadata": {},
   "source": [
    "## Q8. Discuss the conditions under which the binomial distribution is used."
   ]
  },
  {
   "cell_type": "markdown",
   "id": "91b56f8c-2c94-4940-9c61-daff2d26cf83",
   "metadata": {},
   "source": [
    "The binomial distribution is a discrete probability distribution that models the number of successes in a fixed number of independent trials, each with the same probability of success. Here are the key conditions under which the binomial distribution is used:\n",
    "\n",
    "### Conditions for the Binomial Distribution\n",
    "\n",
    "1. **Fixed Number of Trials (n)**:\n",
    "   - The experiment consists of a predetermined number of trials, denoted as \\( n \\). Each trial is identical in nature.\n",
    "\n",
    "2. **Two Possible Outcomes**:\n",
    "   - Each trial results in one of two outcomes, commonly referred to as \"success\" and \"failure.\" These outcomes must be clearly defined.\n",
    "\n",
    "3. **Constant Probability of Success (p)**:\n",
    "   - The probability of success (\\( p \\)) remains constant across all trials. Conversely, the probability of failure is \\( 1 - p \\).\n",
    "\n",
    "4. **Independence of Trials**:\n",
    "   - The outcome of each trial is independent of the outcomes of other trials. This means that the result of one trial does not affect the result of another.\n",
    "\n",
    "### Examples of Binomial Distribution\n",
    "\n",
    "- **Coin Tossing**: Tossing a coin \\( n \\) times and counting the number of heads (successes).\n",
    "- **Quality Control**: Testing a batch of products where each product can either be defective (failure) or non-defective (success).\n",
    "- **Survey Responses**: Conducting a survey where each respondent can either agree (success) or disagree (failure) with a statement.\n",
    "\n",
    "### Conclusion\n",
    "\n",
    "The binomial distribution is applicable in scenarios that meet the specified conditions. It is widely used in various fields, including statistics, quality control, medicine, and social sciences, for modeling binary outcomes across fixed trials. Understanding when to apply the binomial distribution is crucial for accurate statistical analysis and decision-making."
   ]
  },
  {
   "cell_type": "markdown",
   "id": "36034331-e210-4900-8583-09b0f726f36d",
   "metadata": {},
   "source": [
    "## Q9. Explain the properties of the normal distribution and the empirical rule (68-95-99.7 rule)"
   ]
  },
  {
   "cell_type": "markdown",
   "id": "7b02c19d-c2c0-436b-a808-5cfd359ec7fc",
   "metadata": {},
   "source": [
    "The normal distribution, often referred to as the Gaussian distribution, is a fundamental concept in statistics characterized by its bell-shaped curve. It is widely used in various fields due to its natural occurrence in many processes. Here are the key properties of the normal distribution and the empirical rule:\n",
    "\n",
    "### Properties of the Normal Distribution\n",
    "\n",
    "1. **Symmetry**:\n",
    "   - The normal distribution is perfectly symmetrical around its mean. This means that the left and right halves of the curve are mirror images of each other.\n",
    "\n",
    "2. **Mean, Median, and Mode**:\n",
    "   - In a normal distribution, the mean, median, and mode are all equal and located at the center of the distribution.\n",
    "\n",
    "3. **Bell-Shaped Curve**:\n",
    "   - The graph of the normal distribution is bell-shaped, with the highest point at the mean. As you move away from the mean, the probabilities decrease, approaching zero but never actually reaching it.\n",
    "\n",
    "4. **Defined by Mean and Standard Deviation**:\n",
    "   - The normal distribution is fully described by two parameters: the mean and the standard deviation . The mean determines the center of the distribution, while the standard deviation determines the spread or width of the distribution.\n",
    "\n",
    "5. **Asymptotic**:\n",
    "   - The tails of the normal distribution approach the horizontal axis but never actually touch it. This implies that there is a non-zero probability of extreme values occurring, no matter how far you go from the mean.\n",
    "\n",
    "6. **Total Area Under the Curve**:\n",
    "   - The total area under the normal distribution curve equals 1, representing the total probability.\n",
    "\n",
    "### The Empirical Rule (68-95-99.7 Rule)\n",
    "\n",
    "The empirical rule, also known as the 68-95-99.7 rule, describes how data is distributed in a normal distribution in relation to the mean and standard deviations. Specifically:\n",
    "\n",
    "1. **68% Rule**:\n",
    "   - Approximately 68% of the data falls within one standard deviation of the mean. This means that if you have a normally distributed dataset, around two-thirds of the data points lie between \n",
    "\n",
    "2. **95% Rule**:\n",
    "   - About 95% of the data falls within two standard deviations of the mean. This indicates that most of the data points (almost all) are contained within this range.\n",
    "\n",
    "3. **99.7% Rule**:\n",
    "   - Nearly 99.7% of the data falls within three standard deviation of the mean. This means that extreme values are very rare in a normal distribution.\n",
    "\n",
    "### Summary\n",
    "\n",
    "The normal distribution is a vital concept in statistics, characterized by its symmetry, bell shape, and defined by its mean and standard deviation. The empirical rule (68-95-99.7 rule) provides a useful way to understand how data is distributed around the mean, helping in the interpretation of data and making predictions about probabilities in normally distributed datasets."
   ]
  },
  {
   "cell_type": "markdown",
   "id": "acd8b59f-7042-43cc-a459-5decda7f29a1",
   "metadata": {},
   "source": [
    "## Q10. Provide a real-life example of a Poisson process and calculate the probability for a specific event."
   ]
  },
  {
   "cell_type": "markdown",
   "id": "eff47312-004e-4031-b82d-147e15698880",
   "metadata": {},
   "source": [
    "Average Rate (λ): 10 customers per hour\n",
    "Specific Event: Probability of exactly 5 customers arriving in one hour"
   ]
  },
  {
   "cell_type": "code",
   "execution_count": 6,
   "id": "a23bc4a7-874b-44c2-905f-109f5fd09244",
   "metadata": {},
   "outputs": [
    {
     "name": "stdout",
     "output_type": "stream",
     "text": [
      "The probability of exactly 5 customers arriving in one hour is: 0.0378\n"
     ]
    },
    {
     "data": {
      "image/png": "[encoded data removed]",
      "text/plain": [
       "<Figure size 640x480 with 1 Axes>"
      ]
     },
     "metadata": {},
     "output_type": "display_data"
    }
   ],
   "source": [
    "import numpy as np\n",
    "import matplotlib.pyplot as plt\n",
    "from scipy.stats import poisson\n",
    "\n",
    "# Given parameters\n",
    "lambda_rate = 10  # average rate of customer arrivals\n",
    "k = 5             # number of customers for which we want to find the probability\n",
    "\n",
    "# Calculate the probability of exactly k customers arriving\n",
    "probability_k = poisson.pmf(k, lambda_rate)\n",
    "\n",
    "print(f\"The probability of exactly {k} customers arriving in one hour is: {probability_k:.4f}\")\n",
    "\n",
    "# Optional: Visualize the Poisson distribution\n",
    "x = np.arange(0, 21)  # Range of possible customer arrivals\n",
    "pmf_values = poisson.pmf(x, lambda_rate)\n",
    "\n",
    "plt.bar(x, pmf_values, color='blue', alpha=0.7)\n",
    "plt.title('Poisson Distribution of Customer Arrivals')\n",
    "plt.xlabel('Number of Customers')\n",
    "plt.ylabel('Probability')\n",
    "plt.axvline(k, color='red', linestyle='dashed', linewidth=1, label=f'k = {k}')\n",
    "plt.legend()\n",
    "plt.show()\n"
   ]
  },
  {
   "cell_type": "markdown",
   "id": "d65e9bd3-cf90-40ef-b5b0-7a825c189f88",
   "metadata": {},
   "source": [
    "## Q11. Explain what a random variable is and differentiate between discrete and continuous random variables."
   ]
  },
  {
   "cell_type": "markdown",
   "id": "244eba57-f2b3-4102-91b0-a0f3bbafd4e6",
   "metadata": {},
   "source": [
    "A random variable is a numerical outcome of a random phenomenon or experiment. It assigns a numerical value to each possible outcome in a sample space, allowing us to perform statistical analysis on random events. Random variables are typically denoted by capital letters, such as \n",
    "𝑋 or Y\n",
    "\n",
    "### Types of Random Variables\n",
    "Random variables can be categorized into two main types: discrete and continuous.\n",
    "\n",
    "#### 1. Discrete Random Variables\n",
    "Definition: A discrete random variable can take on a countable number of distinct values. This means that the values can be listed or enumerated.\n",
    "\n",
    "Examples:\n",
    "\n",
    "The number of students in a classroom (0, 1, 2, …, n).\n",
    "\n",
    "The outcome of rolling a die (1, 2, 3, 4, 5, or 6).\n",
    "\n",
    "The number of heads when flipping a coin multiple times.\n",
    "\n",
    "Probability Distribution: The probability distribution for discrete random variables is typically represented by a probability mass function (PMF), which assigns probabilities to each possible value of the random variable.\n",
    "\n",
    "#### 2. **Continuous Random Variables**\n",
    "Definition: A continuous random variable can take on an infinite number of values within a given range. This means the values cannot be counted but can be measured.\n",
    "\n",
    "#### Examples:\n",
    "\n",
    "The height of students in a school (e.g., 160.5 cm, 162.3 cm, etc.).\n",
    "\n",
    "The time it takes to complete a race (e.g., 12.5 seconds).\n",
    "\n",
    "The temperature on a given day (e.g., 22.7°C).\n",
    "\n",
    "Probability Distribution: The probability distribution for continuous random variables is represented by a probability density function (PDF), which describes the likelihood of the variable falling within a particular range. The total area under the curve of the PDF equals 1."
   ]
  },
  {
   "cell_type": "markdown",
   "id": "9e9e8957-7022-48b4-8961-c94e85eefffa",
   "metadata": {},
   "source": [
    "## Q12.  Provide an example dataset, calculate both covariance and correlation, and interpret the results."
   ]
  },
  {
   "cell_type": "code",
   "execution_count": 7,
   "id": "0f19c813-b2cb-4aeb-bedc-a8e34342eb1f",
   "metadata": {},
   "outputs": [
    {
     "name": "stdout",
     "output_type": "stream",
     "text": [
      "Covariance between Hours Studied and Test Score: 25.50\n",
      "Correlation between Hours Studied and Test Score: 1.00\n"
     ]
    }
   ],
   "source": [
    "import pandas as pd\n",
    "import numpy as np\n",
    "\n",
    "# Create a dataset\n",
    "data = {\n",
    "    'Hours_Studied': [1, 2, 3, 4, 5, 6],\n",
    "    'Test_Score': [50, 55, 65, 70, 80, 85]\n",
    "}\n",
    "\n",
    "# Create a DataFrame\n",
    "df = pd.DataFrame(data)\n",
    "\n",
    "# Calculate Covariance\n",
    "covariance = np.cov(df['Hours_Studied'], df['Test_Score'])[0][1]\n",
    "\n",
    "# Calculate Correlation\n",
    "correlation = df['Hours_Studied'].corr(df['Test_Score'])\n",
    "\n",
    "# Display the results\n",
    "print(f\"Covariance between Hours Studied and Test Score: {covariance:.2f}\")\n",
    "print(f\"Correlation between Hours Studied and Test Score: {correlation:.2f}\")\n"
   ]
  },
  {
   "cell_type": "code",
   "execution_count": null,
   "id": "f202ce31-e095-42a6-986a-4c2a2055506b",
   "metadata": {},
   "outputs": [],
   "source": []
  }
 ],
 "metadata": {
  "kernelspec": {
   "display_name": "Python 3 (ipykernel)",
   "language": "python",
   "name": "python3"
  },
  "language_info": {
   "codemirror_mode": {
    "name": "ipython",
    "version": 3
   },
   "file_extension": ".py",
   "mimetype": "text/x-python",
   "name": "python",
   "nbconvert_exporter": "python",
   "pygments_lexer": "ipython3",
   "version": "3.12.4"
  }
 },
 "nbformat": 4,
 "nbformat_minor": 5
}
